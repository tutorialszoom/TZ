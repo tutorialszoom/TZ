{
 "cells": [
  {
   "cell_type": "markdown",
   "id": "550c3d40",
   "metadata": {},
   "source": [
    "# handcalcs\n",
    "## Python calculations in Jupyter,\n",
    "## as though you wrote them by hand\n",
    "handcalcs is a library to render Python calculation code automatically in Latex, but in a manner that mimics how one might format their calculation if it were written with a pencil: write the symbolic formula, followed by numeric substitutions, and then the result.\n",
    "\n",
    "Because handcalcs shows the numeric substitution, the calculations become significantly easier to check and verify by hand."
   ]
  },
  {
   "cell_type": "code",
   "execution_count": 1,
   "id": "574f85c8",
   "metadata": {},
   "outputs": [],
   "source": [
    "# How to install handcalcs\n",
    "# !pip install handcalcs # I already installed it\n",
    "# import libraries\n",
    "import handcalcs.render\n",
    "from math import sqrt, pi"
   ]
  },
  {
   "cell_type": "code",
   "execution_count": 2,
   "id": "4efd28af",
   "metadata": {},
   "outputs": [
    {
     "data": {
      "text/latex": [
       "\\[\n",
       "\\begin{aligned}\n",
       "a &= 3 \\; \n",
       "\\\\[10pt]\n",
       "b &= -20 \\; \n",
       "\\\\[10pt]\n",
       "c &= 2 \\cdot a + \\frac{ b }{ 3 }  = 2 \\cdot 3 + \\frac{ -20 }{ 3 } &= -6.667 \\times 10 ^ {-1 }  \n",
       "\\end{aligned}\n",
       "\\]"
      ],
      "text/plain": [
       "<IPython.core.display.Latex object>"
      ]
     },
     "metadata": {},
     "output_type": "display_data"
    }
   ],
   "source": [
    "%%render\n",
    "a = 3\n",
    "b = -20\n",
    "c = 2 * a + b / 3"
   ]
  },
  {
   "cell_type": "code",
   "execution_count": 4,
   "id": "f8234e23",
   "metadata": {},
   "outputs": [
    {
     "name": "stdout",
     "output_type": "stream",
     "text": [
      "\\[\n",
      "\\begin{aligned}\n",
      "a &= 3 \\; \n",
      "\\\\[10pt]\n",
      "b &= -20 \\; \n",
      "\\\\[10pt]\n",
      "c &= 2 \\cdot a + \\frac{ b }{ 3 }  = 2 \\cdot 3 + \\frac{ -20 }{ 3 } &= -6.667 \\times 10 ^ {-1 }  \n",
      "\\end{aligned}\n",
      "\\]\n"
     ]
    }
   ],
   "source": [
    "%%tex\n",
    "a = 3\n",
    "b = -20\n",
    "c = 2 * a + b / 3"
   ]
  },
  {
   "cell_type": "code",
   "execution_count": 5,
   "id": "9db40da3",
   "metadata": {},
   "outputs": [
    {
     "data": {
      "text/latex": [
       "\\[\n",
       "\\begin{aligned}\n",
       "a &= \\frac{ 2 }{ 3 } \\cdot \\sqrt { \\pi }  = \\frac{ 2 }{ 3 } \\cdot \\sqrt { 3.142 } &= 1.182  \n",
       "\\end{aligned}\n",
       "\\]"
      ],
      "text/plain": [
       "<IPython.core.display.Latex object>"
      ]
     },
     "metadata": {},
     "output_type": "display_data"
    }
   ],
   "source": [
    "%%render\n",
    "a = 2 / 3 * sqrt(pi)"
   ]
  },
  {
   "cell_type": "markdown",
   "id": "a322b4c2",
   "metadata": {},
   "source": [
    "# Thanks for watching\n",
    "## Please SUBSCRIBE for more ..."
   ]
  },
  {
   "cell_type": "code",
   "execution_count": null,
   "id": "c6aff1f1",
   "metadata": {},
   "outputs": [],
   "source": []
  }
 ],
 "metadata": {
  "kernelspec": {
   "display_name": "Python 3 (ipykernel)",
   "language": "python",
   "name": "python3"
  },
  "language_info": {
   "codemirror_mode": {
    "name": "ipython",
    "version": 3
   },
   "file_extension": ".py",
   "mimetype": "text/x-python",
   "name": "python",
   "nbconvert_exporter": "python",
   "pygments_lexer": "ipython3",
   "version": "3.8.10"
  }
 },
 "nbformat": 4,
 "nbformat_minor": 5
}
